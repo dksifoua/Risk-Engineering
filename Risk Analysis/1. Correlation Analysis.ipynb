{
 "cells": [
  {
   "cell_type": "markdown",
   "metadata": {},
   "source": [
    "# Context\n",
    "\n",
    "Analysis of **causal effects** is an important activity in risk analysis.\n",
    "- *Process safety engineer*: \"To what extent does increased process temperature and pressure increase the level of corrosion of my equipment?\"\n",
    "- *Medical researcher*: \"What is the mortality impact of smoking 2 packets of cigarettes per day?\"\n",
    "- *Safety regulator*: \"Do more frequent site inspections lead to a lower accident rate?\"\n",
    "- *Life insurer*: \"What is the conditional probability when one spouse dies, that the other will die shortly afterwards?\"\n",
    "\n",
    "The simplest statistical technique for analyzing causal effects is **correlation analysis**. It measures the extent to which two variables vary together, including the strength and direction of their relationship.\n",
    "\n",
    "# Measuring linear correlation\n",
    "\n",
    "The linear correlation coefficient $\\rho$ (also called the *Pearson product-moment correlation coefficient*) measures the strength and direction of a linear association between two random variables.\n",
    "\n",
    "$$\\rho_{X, Y} = \\frac{cov(X, Y)}{\\sigma_X \\sigma_Y} = \\frac{\\mathop{\\mathbb{E}}{(X - \\mu_X)(Y - \\mu_Y)}}{\\sigma_X \\sigma_Y}$$\n",
    "\n",
    "The linear correlation coefficient $\\rho$ quantifies the strengths and directions of movements in two random variables:\n",
    "- The **sign** of $\\rho$ determines the relative directions that the variables move in.\n",
    "- The **value** determines strength of the relative movements (ranging from $-1$ to $+1$).\n",
    "\n",
    "Eg. $\\rho = 0.5$ means one variable moves in the same direction by half the amount that the other variable moves. $\\rho = 0$ means variables are uncorrelated (*does not imply that they are independent!*)."
   ]
  },
  {
   "cell_type": "code",
   "execution_count": 1,
   "metadata": {},
   "outputs": [],
   "source": [
    "import numpy as np\n",
    "import scipy.stats\n",
    "import pandas as pd\n",
    "import matplotlib.pyplot as plt\n",
    "import seaborn as sns"
   ]
  },
  {
   "cell_type": "code",
   "execution_count": 2,
   "metadata": {},
   "outputs": [
    {
     "data": {
      "image/png": "[encoded data removed]",
      "text/plain": [
       "<Figure size 432x288 with 1 Axes>"
      ]
     },
     "metadata": {
      "needs_background": "light"
     },
     "output_type": "display_data"
    }
   ],
   "source": [
    "X = np.random.uniform(0, 10, 100)\n",
    "Y = X + np.random.uniform(0, 2, 100)\n",
    "\n",
    "plt.scatter(X, Y, alpha=0.5)\n",
    "plt.xlabel('X')\n",
    "plt.ylabel('Y')\n",
    "plt.show()"
   ]
  },
  {
   "cell_type": "markdown",
   "metadata": {},
   "source": [
    "Looking at the scatterplot above, we can see that the random variables $X$ and $Y$ are correlated. There are various statistical measures that allow us to quantify the degree of linear correlation. The most commonly used is **Pearson’s product-moment correlation coefficient**. It is available in `scipy.stats`."
   ]
  },
  {
   "cell_type": "code",
   "execution_count": 3,
   "metadata": {},
   "outputs": [
    {
     "name": "stdout",
     "output_type": "stream",
     "text": [
      "(0.9846539345758004, 4.094577675354664e-76)\n"
     ]
    }
   ],
   "source": [
    "corr_XY = scipy.stats.pearsonr(X, Y)\n",
    "print(corr_XY)"
   ]
  },
  {
   "cell_type": "markdown",
   "metadata": {},
   "source": [
    "The first return value is the linear correlation coefficient, a value between -1 and 1 which measures the strength of the linear correlation. It indicates a strong positive linear correlation.\n",
    "\n",
    "The second return value is a **p-value**, which is a measure of the confidence which can be placed in the estimation of the correlation coefficient (smaller = more confidence). Here we have a very very low p-value, so high confidence in the estimated value of the correlation coefficient."
   ]
  },
  {
   "cell_type": "markdown",
   "metadata": {},
   "source": [
    "# Correlation matrix\n",
    "\n",
    "A correlation matrix is used to investigate the dependence between multiple variables at the same time\n",
    "- Output: a symmetric matrix where element $m_{ij}$ is the correlation coefficient between variables $i$ and $j$\n",
    "- Note: diagonal elements are always 1\n",
    "- Can be visualized graphically using a **correlogram**\n",
    "- Allows to see which variables in the data are informative"
   ]
  },
  {
   "cell_type": "code",
   "execution_count": 4,
   "metadata": {},
   "outputs": [
    {
     "data": {
      "text/html": [
       "<div>\n",
       "<style scoped>\n",
       "    .dataframe tbody tr th:only-of-type {\n",
       "        vertical-align: middle;\n",
       "    }\n",
       "\n",
       "    .dataframe tbody tr th {\n",
       "        vertical-align: top;\n",
       "    }\n",
       "\n",
       "    .dataframe thead th {\n",
       "        text-align: right;\n",
       "    }\n",
       "</style>\n",
       "<table border=\"1\" class=\"dataframe\">\n",
       "  <thead>\n",
       "    <tr style=\"text-align: right;\">\n",
       "      <th></th>\n",
       "      <th>Accident_Index</th>\n",
       "      <th>Vehicle_Reference</th>\n",
       "      <th>Casualty_Reference</th>\n",
       "      <th>Casualty_Class</th>\n",
       "      <th>Sex_of_Casualty</th>\n",
       "      <th>Age_of_Casualty</th>\n",
       "      <th>Age_Band_of_Casualty</th>\n",
       "      <th>Casualty_Severity</th>\n",
       "      <th>Pedestrian_Location</th>\n",
       "      <th>Pedestrian_Movement</th>\n",
       "      <th>Car_Passenger</th>\n",
       "      <th>Bus_or_Coach_Passenger</th>\n",
       "      <th>Pedestrian_Road_Maintenance_Worker</th>\n",
       "      <th>Casualty_Type</th>\n",
       "      <th>Casualty_Home_Area_Type</th>\n",
       "      <th>Casualty_IMD_Decile</th>\n",
       "    </tr>\n",
       "  </thead>\n",
       "  <tbody>\n",
       "    <tr>\n",
       "      <th>0</th>\n",
       "      <td>2018010080971</td>\n",
       "      <td>1</td>\n",
       "      <td>1</td>\n",
       "      <td>2</td>\n",
       "      <td>2</td>\n",
       "      <td>50</td>\n",
       "      <td>8</td>\n",
       "      <td>3</td>\n",
       "      <td>0</td>\n",
       "      <td>0</td>\n",
       "      <td>2</td>\n",
       "      <td>0</td>\n",
       "      <td>0</td>\n",
       "      <td>9</td>\n",
       "      <td>1</td>\n",
       "      <td>8</td>\n",
       "    </tr>\n",
       "    <tr>\n",
       "      <th>1</th>\n",
       "      <td>2018010080971</td>\n",
       "      <td>2</td>\n",
       "      <td>2</td>\n",
       "      <td>1</td>\n",
       "      <td>1</td>\n",
       "      <td>48</td>\n",
       "      <td>8</td>\n",
       "      <td>3</td>\n",
       "      <td>0</td>\n",
       "      <td>0</td>\n",
       "      <td>0</td>\n",
       "      <td>0</td>\n",
       "      <td>0</td>\n",
       "      <td>8</td>\n",
       "      <td>1</td>\n",
       "      <td>1</td>\n",
       "    </tr>\n",
       "    <tr>\n",
       "      <th>2</th>\n",
       "      <td>2018010080973</td>\n",
       "      <td>1</td>\n",
       "      <td>1</td>\n",
       "      <td>3</td>\n",
       "      <td>1</td>\n",
       "      <td>29</td>\n",
       "      <td>6</td>\n",
       "      <td>3</td>\n",
       "      <td>5</td>\n",
       "      <td>1</td>\n",
       "      <td>0</td>\n",
       "      <td>0</td>\n",
       "      <td>2</td>\n",
       "      <td>0</td>\n",
       "      <td>1</td>\n",
       "      <td>3</td>\n",
       "    </tr>\n",
       "    <tr>\n",
       "      <th>3</th>\n",
       "      <td>2018010080974</td>\n",
       "      <td>1</td>\n",
       "      <td>1</td>\n",
       "      <td>1</td>\n",
       "      <td>1</td>\n",
       "      <td>40</td>\n",
       "      <td>7</td>\n",
       "      <td>3</td>\n",
       "      <td>0</td>\n",
       "      <td>0</td>\n",
       "      <td>0</td>\n",
       "      <td>0</td>\n",
       "      <td>0</td>\n",
       "      <td>8</td>\n",
       "      <td>1</td>\n",
       "      <td>3</td>\n",
       "    </tr>\n",
       "    <tr>\n",
       "      <th>4</th>\n",
       "      <td>2018010080981</td>\n",
       "      <td>1</td>\n",
       "      <td>1</td>\n",
       "      <td>1</td>\n",
       "      <td>1</td>\n",
       "      <td>27</td>\n",
       "      <td>6</td>\n",
       "      <td>2</td>\n",
       "      <td>0</td>\n",
       "      <td>0</td>\n",
       "      <td>0</td>\n",
       "      <td>0</td>\n",
       "      <td>0</td>\n",
       "      <td>9</td>\n",
       "      <td>1</td>\n",
       "      <td>7</td>\n",
       "    </tr>\n",
       "  </tbody>\n",
       "</table>\n",
       "</div>"
      ],
      "text/plain": [
       "  Accident_Index  Vehicle_Reference  Casualty_Reference  Casualty_Class  \\\n",
       "0  2018010080971                  1                   1               2   \n",
       "1  2018010080971                  2                   2               1   \n",
       "2  2018010080973                  1                   1               3   \n",
       "3  2018010080974                  1                   1               1   \n",
       "4  2018010080981                  1                   1               1   \n",
       "\n",
       "   Sex_of_Casualty  Age_of_Casualty  Age_Band_of_Casualty  Casualty_Severity  \\\n",
       "0                2               50                     8                  3   \n",
       "1                1               48                     8                  3   \n",
       "2                1               29                     6                  3   \n",
       "3                1               40                     7                  3   \n",
       "4                1               27                     6                  2   \n",
       "\n",
       "   Pedestrian_Location  Pedestrian_Movement  Car_Passenger  \\\n",
       "0                    0                    0              2   \n",
       "1                    0                    0              0   \n",
       "2                    5                    1              0   \n",
       "3                    0                    0              0   \n",
       "4                    0                    0              0   \n",
       "\n",
       "   Bus_or_Coach_Passenger  Pedestrian_Road_Maintenance_Worker  Casualty_Type  \\\n",
       "0                       0                                   0              9   \n",
       "1                       0                                   0              8   \n",
       "2                       0                                   2              0   \n",
       "3                       0                                   0              8   \n",
       "4                       0                                   0              9   \n",
       "\n",
       "   Casualty_Home_Area_Type  Casualty_IMD_Decile  \n",
       "0                        1                    8  \n",
       "1                        1                    1  \n",
       "2                        1                    3  \n",
       "3                        1                    3  \n",
       "4                        1                    7  "
      ]
     },
     "execution_count": 4,
     "metadata": {},
     "output_type": "execute_result"
    }
   ],
   "source": [
    "data = pd.read_csv(\"http://data.dft.gov.uk/road-accidents-safety-data/dftRoadSafetyData_Casualties_2018.csv\")\n",
    "data.head()"
   ]
  },
  {
   "cell_type": "code",
   "execution_count": 5,
   "metadata": {},
   "outputs": [
    {
     "data": {
      "image/png": "[encoded data removed]",
      "text/plain": [
       "<Figure size 432x288 with 2 Axes>"
      ]
     },
     "metadata": {
      "needs_background": "light"
     },
     "output_type": "display_data"
    }
   ],
   "source": [
    "corr_matrix = data.corr()\n",
    "\n",
    "sns.heatmap(corr_matrix, square=True)\n",
    "plt.yticks(rotation=0)\n",
    "plt.xticks(rotation=90)\n",
    "plt.show()"
   ]
  },
  {
   "cell_type": "markdown",
   "metadata": {},
   "source": [
    "# Beware assumptions of causality\n",
    "\n",
    "In 1964 the US Surgeon General issues a report claiming that cigarette smoking causes lung cancer, based mostly on correlation data from medical studies. However, correlation is not sufficient to demonstrate causality. There might be some hidden genetic factor that causes both lung cancer and desire for nicotine.\n",
    "\n",
    "To demonstrate the causality, we need a **randomized controlled experiment**.\n",
    "\n",
    "1. Assume we have the power to force people to smoke or not smoke (we ignore moral issues for now).\n",
    "2. Take a large group of people and divide them into two groups\n",
    "    - One group is obliged to smoke\n",
    "    - Other group not allowed to smoke (the \"control\" group)\n",
    "3. Observe whether smoker group develops more lung cancer than the control group\n",
    "\n",
    "By doing this, we have eliminated any possible hidden factor causing both smoking and lung cancer.\n",
    "\n",
    "# Constructing arguments of causality from observations\n",
    "\n",
    "Causality is an important — and complex — notion in risk analysis and many areas of science, with two main approaches used\n",
    "- **Conservative approach** used mostly in the physical sciences requires:\n",
    "    - A plausible physical model for the phenomenon showing how A might lead to B\n",
    "    - Observations of correlation between A and B\n",
    "- **Relaxed approach** used in the social sciences requires:\n",
    "    - A randomized controlled experiment in which the choice of receiving the treatment A is determined only by a random choice made by the experimenter\n",
    "    - Observations of correlation between A and B\n",
    "    \n",
    "Alternative relaxed approach: a quasi-experimental *natural experiment*\n",
    "\n",
    "# Natural experiments and causal inference\n",
    "\n",
    "It is an empirical study in which allocation between experimental and control treatments are determined by factors outside the control of investigators but which resemble random assignment.\n",
    "\n",
    "Eg. In testing whether military service subsequently affected job evolution and earnings, economists examined difference between American males drafted for the Vietnam war and those not drafted:\n",
    "- Draft was assigned on the basis of date of birth, so *control* and *treatment* groups likely to be similar statistically\n",
    "- **Findings**: earnings of veterans approx. 15% lower than those of non-veterans\n",
    "\n",
    "Another Eg. Cholera outbreak in London in 1854 led to 616 deaths.\n",
    "\n",
    "Medical doctor J. Snow discovered a strong association between the use of the water from specific public water pumps and\n",
    "deaths and illnesses due to cholera:\n",
    "- *Bad* pumps supplied by a company that obtained water from the rivers Thames downstream of a raw sewage discharge\n",
    "- *Good* pumps obtained water from the Thames upstream from the discharge point\n",
    "- **Findings**: Cholera outbreak stopped when the *bad* pumps were shutdown"
   ]
  },
  {
   "cell_type": "code",
   "execution_count": null,
   "metadata": {},
   "outputs": [],
   "source": []
  }
 ],
 "metadata": {
  "kernelspec": {
   "display_name": "Python 3",
   "language": "python",
   "name": "python3"
  },
  "language_info": {
   "codemirror_mode": {
    "name": "ipython",
    "version": 3
   },
   "file_extension": ".py",
   "mimetype": "text/x-python",
   "name": "python",
   "nbconvert_exporter": "python",
   "pygments_lexer": "ipython3",
   "version": "3.6.8"
  }
 },
 "nbformat": 4,
 "nbformat_minor": 4
}
